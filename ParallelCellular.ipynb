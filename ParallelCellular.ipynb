{
  "nbformat": 4,
  "nbformat_minor": 0,
  "metadata": {
    "colab": {
      "provenance": []
    },
    "kernelspec": {
      "name": "python3",
      "display_name": "Python 3"
    },
    "language_info": {
      "name": "python"
    }
  },
  "cells": [
    {
      "cell_type": "code",
      "execution_count": null,
      "metadata": {
        "id": "XEHr-UlKVnCA"
      },
      "outputs": [],
      "source": [
        "import numpy as np\n",
        "num_servers = 10\n",
        "num_tasks = 100\n",
        "max_iterations = 50\n",
        "neighborhood_size = 2\n",
        "server_loads = np.random.randint(1, 10, size=num_servers)\n",
        "total_load = sum(server_loads)\n",
        "while total_load < num_tasks:\n",
        "    idx = np.random.randint(0, num_servers)\n",
        "    server_loads[idx] += 1\n",
        "    total_load += 1\n",
        "print(\"Initial server loads:\", server_loads)\n",
        "def fitness(loads):\n",
        "    return np.max(loads) - np.min(loads)\n",
        "def update_loads(server_loads, neighborhood_size):\n",
        "    new_loads = server_loads.copy()\n",
        "    for i in range(len(server_loads)):\n",
        "\n",
        "        neighbors = [\n",
        "            server_loads[(i + offset) % len(server_loads)]\n",
        "            for offset in range(-neighborhood_size, neighborhood_size + 1)\n",
        "            if offset != 0\n",
        "        ]\n",
        "        avg_neighbor_load = sum(neighbors) // len(neighbors)\n",
        "\n",
        "        if server_loads[i] > avg_neighbor_load:\n",
        "            new_loads[i] -= 1\n",
        "        elif server_loads[i] < avg_neighbor_load:\n",
        "            new_loads[i] += 1\n",
        "        new_loads[i] = max(0, new_loads[i])\n",
        "    return new_loads\n",
        "best_solution = server_loads\n",
        "best_fitness = fitness(server_loads)\n",
        "for iteration in range(max_iterations):\n",
        "    server_loads = update_loads(server_loads, neighborhood_size)\n",
        "\n",
        "    current_fitness = fitness(server_loads)\n",
        "    if current_fitness < best_fitness:\n",
        "        best_solution = server_loads\n",
        "        best_fitness = current_fitness\n",
        "\n",
        "    print(f\"Iteration {iteration+1}: Server Loads = {server_loads}, Fitness = {current_fitness}\")\n",
        "print(\"\\nFinal optimized server loads:\", best_solution)\n",
        "print(\"Final load imbalance (fitness):\", best_fitness)"
      ]
    }
  ]
}